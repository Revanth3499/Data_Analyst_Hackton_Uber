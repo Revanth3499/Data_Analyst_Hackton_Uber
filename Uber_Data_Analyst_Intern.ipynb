{
  "nbformat": 4,
  "nbformat_minor": 0,
  "metadata": {
    "colab": {
      "provenance": []
    },
    "kernelspec": {
      "name": "python3",
      "display_name": "Python 3"
    },
    "language_info": {
      "name": "python"
    }
  },
  "cells": [
    {
      "cell_type": "markdown",
      "source": [
        "# Problem Statement"
      ],
      "metadata": {
        "id": "Y4LiFmvG5kwE"
      }
    },
    {
      "cell_type": "markdown",
      "source": [
        "Assume that you are working as a Data Analyst Intern with Uber.\n",
        "Your first assignment as an intern here is to perform analysis and ML modelling on rides data recorded between 2009-01-01 and\n",
        "2015-06-30."
      ],
      "metadata": {
        "id": "TcsFf3805os5"
      }
    },
    {
      "cell_type": "code",
      "execution_count": 1,
      "metadata": {
        "colab": {
          "base_uri": "https://localhost:8080/",
          "height": 206
        },
        "id": "f9NH_NrJt32s",
        "outputId": "35735fee-e1e2-4538-ca2d-4b18036cfcbc"
      },
      "outputs": [
        {
          "output_type": "execute_result",
          "data": {
            "text/plain": [
              "    ride_id  fare_amount          pickup_datetime  pickup_longitude  \\\n",
              "0  24238194          7.5  2015-05-07 19:52:06 UTC        -73.999817   \n",
              "1  27835199          7.7  2009-07-17 20:04:56 UTC        -73.994355   \n",
              "2  44984355         12.9  2009-08-24 21:45:00 UTC        -74.005043   \n",
              "3  25894730          5.3  2009-06-26 08:22:21 UTC        -73.976124   \n",
              "4  17610152         16.0  2014-08-28 17:47:00 UTC        -73.925023   \n",
              "\n",
              "   pickup_latitude  dropoff_longitude  dropoff_latitude  passenger_count  \n",
              "0        40.738354         -73.999512         40.723217                1  \n",
              "1        40.728225         -73.994710         40.750325                1  \n",
              "2        40.740770         -73.962565         40.772647                1  \n",
              "3        40.790844         -73.965316         40.803349                3  \n",
              "4        40.744085         -73.973082         40.761247                5  "
            ],
            "text/html": [
              "\n",
              "  <div id=\"df-f5666e85-9dc5-44c9-83e5-2c532176aa7e\" class=\"colab-df-container\">\n",
              "    <div>\n",
              "<style scoped>\n",
              "    .dataframe tbody tr th:only-of-type {\n",
              "        vertical-align: middle;\n",
              "    }\n",
              "\n",
              "    .dataframe tbody tr th {\n",
              "        vertical-align: top;\n",
              "    }\n",
              "\n",
              "    .dataframe thead th {\n",
              "        text-align: right;\n",
              "    }\n",
              "</style>\n",
              "<table border=\"1\" class=\"dataframe\">\n",
              "  <thead>\n",
              "    <tr style=\"text-align: right;\">\n",
              "      <th></th>\n",
              "      <th>ride_id</th>\n",
              "      <th>fare_amount</th>\n",
              "      <th>pickup_datetime</th>\n",
              "      <th>pickup_longitude</th>\n",
              "      <th>pickup_latitude</th>\n",
              "      <th>dropoff_longitude</th>\n",
              "      <th>dropoff_latitude</th>\n",
              "      <th>passenger_count</th>\n",
              "    </tr>\n",
              "  </thead>\n",
              "  <tbody>\n",
              "    <tr>\n",
              "      <th>0</th>\n",
              "      <td>24238194</td>\n",
              "      <td>7.5</td>\n",
              "      <td>2015-05-07 19:52:06 UTC</td>\n",
              "      <td>-73.999817</td>\n",
              "      <td>40.738354</td>\n",
              "      <td>-73.999512</td>\n",
              "      <td>40.723217</td>\n",
              "      <td>1</td>\n",
              "    </tr>\n",
              "    <tr>\n",
              "      <th>1</th>\n",
              "      <td>27835199</td>\n",
              "      <td>7.7</td>\n",
              "      <td>2009-07-17 20:04:56 UTC</td>\n",
              "      <td>-73.994355</td>\n",
              "      <td>40.728225</td>\n",
              "      <td>-73.994710</td>\n",
              "      <td>40.750325</td>\n",
              "      <td>1</td>\n",
              "    </tr>\n",
              "    <tr>\n",
              "      <th>2</th>\n",
              "      <td>44984355</td>\n",
              "      <td>12.9</td>\n",
              "      <td>2009-08-24 21:45:00 UTC</td>\n",
              "      <td>-74.005043</td>\n",
              "      <td>40.740770</td>\n",
              "      <td>-73.962565</td>\n",
              "      <td>40.772647</td>\n",
              "      <td>1</td>\n",
              "    </tr>\n",
              "    <tr>\n",
              "      <th>3</th>\n",
              "      <td>25894730</td>\n",
              "      <td>5.3</td>\n",
              "      <td>2009-06-26 08:22:21 UTC</td>\n",
              "      <td>-73.976124</td>\n",
              "      <td>40.790844</td>\n",
              "      <td>-73.965316</td>\n",
              "      <td>40.803349</td>\n",
              "      <td>3</td>\n",
              "    </tr>\n",
              "    <tr>\n",
              "      <th>4</th>\n",
              "      <td>17610152</td>\n",
              "      <td>16.0</td>\n",
              "      <td>2014-08-28 17:47:00 UTC</td>\n",
              "      <td>-73.925023</td>\n",
              "      <td>40.744085</td>\n",
              "      <td>-73.973082</td>\n",
              "      <td>40.761247</td>\n",
              "      <td>5</td>\n",
              "    </tr>\n",
              "  </tbody>\n",
              "</table>\n",
              "</div>\n",
              "    <div class=\"colab-df-buttons\">\n",
              "\n",
              "  <div class=\"colab-df-container\">\n",
              "    <button class=\"colab-df-convert\" onclick=\"convertToInteractive('df-f5666e85-9dc5-44c9-83e5-2c532176aa7e')\"\n",
              "            title=\"Convert this dataframe to an interactive table.\"\n",
              "            style=\"display:none;\">\n",
              "\n",
              "  <svg xmlns=\"http://www.w3.org/2000/svg\" height=\"24px\" viewBox=\"0 -960 960 960\">\n",
              "    <path d=\"M120-120v-720h720v720H120Zm60-500h600v-160H180v160Zm220 220h160v-160H400v160Zm0 220h160v-160H400v160ZM180-400h160v-160H180v160Zm440 0h160v-160H620v160ZM180-180h160v-160H180v160Zm440 0h160v-160H620v160Z\"/>\n",
              "  </svg>\n",
              "    </button>\n",
              "\n",
              "  <style>\n",
              "    .colab-df-container {\n",
              "      display:flex;\n",
              "      gap: 12px;\n",
              "    }\n",
              "\n",
              "    .colab-df-convert {\n",
              "      background-color: #E8F0FE;\n",
              "      border: none;\n",
              "      border-radius: 50%;\n",
              "      cursor: pointer;\n",
              "      display: none;\n",
              "      fill: #1967D2;\n",
              "      height: 32px;\n",
              "      padding: 0 0 0 0;\n",
              "      width: 32px;\n",
              "    }\n",
              "\n",
              "    .colab-df-convert:hover {\n",
              "      background-color: #E2EBFA;\n",
              "      box-shadow: 0px 1px 2px rgba(60, 64, 67, 0.3), 0px 1px 3px 1px rgba(60, 64, 67, 0.15);\n",
              "      fill: #174EA6;\n",
              "    }\n",
              "\n",
              "    .colab-df-buttons div {\n",
              "      margin-bottom: 4px;\n",
              "    }\n",
              "\n",
              "    [theme=dark] .colab-df-convert {\n",
              "      background-color: #3B4455;\n",
              "      fill: #D2E3FC;\n",
              "    }\n",
              "\n",
              "    [theme=dark] .colab-df-convert:hover {\n",
              "      background-color: #434B5C;\n",
              "      box-shadow: 0px 1px 3px 1px rgba(0, 0, 0, 0.15);\n",
              "      filter: drop-shadow(0px 1px 2px rgba(0, 0, 0, 0.3));\n",
              "      fill: #FFFFFF;\n",
              "    }\n",
              "  </style>\n",
              "\n",
              "    <script>\n",
              "      const buttonEl =\n",
              "        document.querySelector('#df-f5666e85-9dc5-44c9-83e5-2c532176aa7e button.colab-df-convert');\n",
              "      buttonEl.style.display =\n",
              "        google.colab.kernel.accessAllowed ? 'block' : 'none';\n",
              "\n",
              "      async function convertToInteractive(key) {\n",
              "        const element = document.querySelector('#df-f5666e85-9dc5-44c9-83e5-2c532176aa7e');\n",
              "        const dataTable =\n",
              "          await google.colab.kernel.invokeFunction('convertToInteractive',\n",
              "                                                    [key], {});\n",
              "        if (!dataTable) return;\n",
              "\n",
              "        const docLinkHtml = 'Like what you see? Visit the ' +\n",
              "          '<a target=\"_blank\" href=https://colab.research.google.com/notebooks/data_table.ipynb>data table notebook</a>'\n",
              "          + ' to learn more about interactive tables.';\n",
              "        element.innerHTML = '';\n",
              "        dataTable['output_type'] = 'display_data';\n",
              "        await google.colab.output.renderOutput(dataTable, element);\n",
              "        const docLink = document.createElement('div');\n",
              "        docLink.innerHTML = docLinkHtml;\n",
              "        element.appendChild(docLink);\n",
              "      }\n",
              "    </script>\n",
              "  </div>\n",
              "\n",
              "\n",
              "<div id=\"df-6e6d7f77-48f5-46f9-9842-35fee95da4ca\">\n",
              "  <button class=\"colab-df-quickchart\" onclick=\"quickchart('df-6e6d7f77-48f5-46f9-9842-35fee95da4ca')\"\n",
              "            title=\"Suggest charts.\"\n",
              "            style=\"display:none;\">\n",
              "\n",
              "<svg xmlns=\"http://www.w3.org/2000/svg\" height=\"24px\"viewBox=\"0 0 24 24\"\n",
              "     width=\"24px\">\n",
              "    <g>\n",
              "        <path d=\"M19 3H5c-1.1 0-2 .9-2 2v14c0 1.1.9 2 2 2h14c1.1 0 2-.9 2-2V5c0-1.1-.9-2-2-2zM9 17H7v-7h2v7zm4 0h-2V7h2v10zm4 0h-2v-4h2v4z\"/>\n",
              "    </g>\n",
              "</svg>\n",
              "  </button>\n",
              "\n",
              "<style>\n",
              "  .colab-df-quickchart {\n",
              "      --bg-color: #E8F0FE;\n",
              "      --fill-color: #1967D2;\n",
              "      --hover-bg-color: #E2EBFA;\n",
              "      --hover-fill-color: #174EA6;\n",
              "      --disabled-fill-color: #AAA;\n",
              "      --disabled-bg-color: #DDD;\n",
              "  }\n",
              "\n",
              "  [theme=dark] .colab-df-quickchart {\n",
              "      --bg-color: #3B4455;\n",
              "      --fill-color: #D2E3FC;\n",
              "      --hover-bg-color: #434B5C;\n",
              "      --hover-fill-color: #FFFFFF;\n",
              "      --disabled-bg-color: #3B4455;\n",
              "      --disabled-fill-color: #666;\n",
              "  }\n",
              "\n",
              "  .colab-df-quickchart {\n",
              "    background-color: var(--bg-color);\n",
              "    border: none;\n",
              "    border-radius: 50%;\n",
              "    cursor: pointer;\n",
              "    display: none;\n",
              "    fill: var(--fill-color);\n",
              "    height: 32px;\n",
              "    padding: 0;\n",
              "    width: 32px;\n",
              "  }\n",
              "\n",
              "  .colab-df-quickchart:hover {\n",
              "    background-color: var(--hover-bg-color);\n",
              "    box-shadow: 0 1px 2px rgba(60, 64, 67, 0.3), 0 1px 3px 1px rgba(60, 64, 67, 0.15);\n",
              "    fill: var(--button-hover-fill-color);\n",
              "  }\n",
              "\n",
              "  .colab-df-quickchart-complete:disabled,\n",
              "  .colab-df-quickchart-complete:disabled:hover {\n",
              "    background-color: var(--disabled-bg-color);\n",
              "    fill: var(--disabled-fill-color);\n",
              "    box-shadow: none;\n",
              "  }\n",
              "\n",
              "  .colab-df-spinner {\n",
              "    border: 2px solid var(--fill-color);\n",
              "    border-color: transparent;\n",
              "    border-bottom-color: var(--fill-color);\n",
              "    animation:\n",
              "      spin 1s steps(1) infinite;\n",
              "  }\n",
              "\n",
              "  @keyframes spin {\n",
              "    0% {\n",
              "      border-color: transparent;\n",
              "      border-bottom-color: var(--fill-color);\n",
              "      border-left-color: var(--fill-color);\n",
              "    }\n",
              "    20% {\n",
              "      border-color: transparent;\n",
              "      border-left-color: var(--fill-color);\n",
              "      border-top-color: var(--fill-color);\n",
              "    }\n",
              "    30% {\n",
              "      border-color: transparent;\n",
              "      border-left-color: var(--fill-color);\n",
              "      border-top-color: var(--fill-color);\n",
              "      border-right-color: var(--fill-color);\n",
              "    }\n",
              "    40% {\n",
              "      border-color: transparent;\n",
              "      border-right-color: var(--fill-color);\n",
              "      border-top-color: var(--fill-color);\n",
              "    }\n",
              "    60% {\n",
              "      border-color: transparent;\n",
              "      border-right-color: var(--fill-color);\n",
              "    }\n",
              "    80% {\n",
              "      border-color: transparent;\n",
              "      border-right-color: var(--fill-color);\n",
              "      border-bottom-color: var(--fill-color);\n",
              "    }\n",
              "    90% {\n",
              "      border-color: transparent;\n",
              "      border-bottom-color: var(--fill-color);\n",
              "    }\n",
              "  }\n",
              "</style>\n",
              "\n",
              "  <script>\n",
              "    async function quickchart(key) {\n",
              "      const quickchartButtonEl =\n",
              "        document.querySelector('#' + key + ' button');\n",
              "      quickchartButtonEl.disabled = true;  // To prevent multiple clicks.\n",
              "      quickchartButtonEl.classList.add('colab-df-spinner');\n",
              "      try {\n",
              "        const charts = await google.colab.kernel.invokeFunction(\n",
              "            'suggestCharts', [key], {});\n",
              "      } catch (error) {\n",
              "        console.error('Error during call to suggestCharts:', error);\n",
              "      }\n",
              "      quickchartButtonEl.classList.remove('colab-df-spinner');\n",
              "      quickchartButtonEl.classList.add('colab-df-quickchart-complete');\n",
              "    }\n",
              "    (() => {\n",
              "      let quickchartButtonEl =\n",
              "        document.querySelector('#df-6e6d7f77-48f5-46f9-9842-35fee95da4ca button');\n",
              "      quickchartButtonEl.style.display =\n",
              "        google.colab.kernel.accessAllowed ? 'block' : 'none';\n",
              "    })();\n",
              "  </script>\n",
              "</div>\n",
              "    </div>\n",
              "  </div>\n"
            ]
          },
          "metadata": {},
          "execution_count": 1
        }
      ],
      "source": [
        "import pandas as pd\n",
        "\n",
        "# Load the dataset\n",
        "file_path = '/content/uber_rides_data.xlsx - sample_train.csv'\n",
        "df = pd.read_csv(file_path)\n",
        "\n",
        "# Show the first few rows to get an idea of the data structure\n",
        "df.head()"
      ]
    },
    {
      "cell_type": "markdown",
      "source": [
        "# Dataset Discription"
      ],
      "metadata": {
        "id": "UYU7ZwEc5vZ0"
      }
    },
    {
      "cell_type": "markdown",
      "source": [
        "Great! The dataset has the following columns:\n",
        "\n",
        "ride_id: Identifier for each ride\n",
        "\n",
        "fare_amount: The fare amount for the ride\n",
        "\n",
        "pickup_datetime: The date and time when the ride started\n",
        "\n",
        "pickup_longitude: The longitude where the ride was picked up\n",
        "\n",
        "pickup_latitude: The latitude where the ride was picked up\n",
        "\n",
        "dropoff_longitude: The longitude where the ride was dropped off\n",
        "\n",
        "dropoff_latitude: The latitude where the ride was dropped off\n",
        "\n",
        "passenger_count: The number of passengers in the ride"
      ],
      "metadata": {
        "id": "_PIQLQTxvbb1"
      }
    },
    {
      "cell_type": "markdown",
      "source": [
        "# Data Cleaning"
      ],
      "metadata": {
        "id": "8pJpiaqc542g"
      }
    },
    {
      "cell_type": "markdown",
      "source": [
        "#  shape of given dataset\n"
      ],
      "metadata": {
        "id": "GVIBMOIq6Yr-"
      }
    },
    {
      "cell_type": "code",
      "source": [
        "# Check the shape of the dataset\n",
        "dataset_shape = df.shape\n",
        "dataset_shape"
      ],
      "metadata": {
        "colab": {
          "base_uri": "https://localhost:8080/"
        },
        "id": "C_0FjpdEvU-S",
        "outputId": "641271d0-77a8-4ae4-c3ed-9e1e2f964546"
      },
      "execution_count": 2,
      "outputs": [
        {
          "output_type": "execute_result",
          "data": {
            "text/plain": [
              "(200000, 8)"
            ]
          },
          "metadata": {},
          "execution_count": 2
        }
      ]
    },
    {
      "cell_type": "markdown",
      "source": [
        " # Integer columns(by default) are given in the dataset"
      ],
      "metadata": {
        "id": "Bb9ii6k96bql"
      }
    },
    {
      "cell_type": "code",
      "source": [
        "# Check the data types of the columns to identify integer columns\n",
        "integer_columns = df.select_dtypes(include=['int']).columns\n",
        "integer_columns_count = len(integer_columns)\n",
        "integer_columns, integer_columns_count"
      ],
      "metadata": {
        "colab": {
          "base_uri": "https://localhost:8080/"
        },
        "id": "4bWOFf1dvo0-",
        "outputId": "1f7292d3-2ca6-4c18-d446-de0822df1327"
      },
      "execution_count": 3,
      "outputs": [
        {
          "output_type": "execute_result",
          "data": {
            "text/plain": [
              "(Index(['ride_id', 'passenger_count'], dtype='object'), 2)"
            ]
          },
          "metadata": {},
          "execution_count": 3
        }
      ]
    },
    {
      "cell_type": "markdown",
      "source": [
        "# Missing values exists in 'dropoff_longitude' column"
      ],
      "metadata": {
        "id": "UfPVtOwa6jga"
      }
    },
    {
      "cell_type": "code",
      "source": [
        "# Count the number of missing values in the 'dropoff_longitude' column\n",
        "missing_values_dropoff_longitude = df['dropoff_longitude'].isnull().sum()\n",
        "missing_values_dropoff_longitude"
      ],
      "metadata": {
        "colab": {
          "base_uri": "https://localhost:8080/"
        },
        "id": "9mH0J5KRvsR4",
        "outputId": "4dbbd403-0656-4d35-a0e8-ad8a288919d9"
      },
      "execution_count": 4,
      "outputs": [
        {
          "output_type": "execute_result",
          "data": {
            "text/plain": [
              "1"
            ]
          },
          "metadata": {},
          "execution_count": 4
        }
      ]
    },
    {
      "cell_type": "markdown",
      "source": [
        "# Data type of ' pickup_datetime' feature in your data"
      ],
      "metadata": {
        "id": "vq3T-VA76qyC"
      }
    },
    {
      "cell_type": "code",
      "source": [
        "# Check the data type of the 'pickup_datetime' column\n",
        "pickup_datetime_dtype = df['pickup_datetime'].dtype\n",
        "pickup_datetime_dtype"
      ],
      "metadata": {
        "colab": {
          "base_uri": "https://localhost:8080/"
        },
        "id": "mPvtw8bdvvfJ",
        "outputId": "728bd146-4861-4529-a094-4c9b954531c1"
      },
      "execution_count": 5,
      "outputs": [
        {
          "output_type": "execute_result",
          "data": {
            "text/plain": [
              "dtype('O')"
            ]
          },
          "metadata": {},
          "execution_count": 5
        }
      ]
    },
    {
      "cell_type": "markdown",
      "source": [
        "#  Average fare amount"
      ],
      "metadata": {
        "id": "YR_OQLOL63dh"
      }
    },
    {
      "cell_type": "code",
      "source": [
        "# Remove rows with null values\n",
        "df_cleaned = df.dropna()\n",
        "\n",
        "# Calculate the average fare amount\n",
        "average_fare_amount = df_cleaned['fare_amount'].mean()\n",
        "average_fare_amount"
      ],
      "metadata": {
        "colab": {
          "base_uri": "https://localhost:8080/"
        },
        "id": "bKZiE9ol2FRu",
        "outputId": "e1aaae09-0975-4292-d7c1-0291b34d5c0b"
      },
      "execution_count": 7,
      "outputs": [
        {
          "output_type": "execute_result",
          "data": {
            "text/plain": [
              "11.359891549457748"
            ]
          },
          "metadata": {},
          "execution_count": 7
        }
      ]
    },
    {
      "cell_type": "markdown",
      "source": [
        "# Calculating distance between each pickup and dropoff points using Haversine formula and the median haversine distance between pickup and dropoff location"
      ],
      "metadata": {
        "id": "6fUu6VJI7ARQ"
      }
    },
    {
      "cell_type": "code",
      "source": [
        "import numpy as np\n",
        "\n",
        "# Function to calculate haversine distance between two points given their longitude and latitude\n",
        "def haversine_distance(lon1, lat1, lon2, lat2):\n",
        "    # Convert latitude and longitude from degrees to radians\n",
        "    lon1, lat1, lon2, lat2 = map(np.radians, [lon1, lat1, lon2, lat2])\n",
        "\n",
        "    # Haversine formula\n",
        "    dlon = lon2 - lon1\n",
        "    dlat = lat2 - lat1\n",
        "    a = np.sin(dlat/2)**2 + np.cos(lat1) * np.cos(lat2) * np.sin(dlon/2)**2\n",
        "    c = 2 * np.arctan2(np.sqrt(a), np.sqrt(1-a))\n",
        "\n",
        "    # Earth's radius in kilometers (mean radius = 6371 km)\n",
        "    R = 6371.0\n",
        "\n",
        "    # Calculate the distance\n",
        "    distance = R * c\n",
        "\n",
        "    return distance\n",
        "\n",
        "# Calculate the haversine distance for each ride\n",
        "df_cleaned['haversine_distance'] = haversine_distance(df_cleaned['pickup_longitude'], df_cleaned['pickup_latitude'],\n",
        "                                                      df_cleaned['dropoff_longitude'], df_cleaned['dropoff_latitude'])\n",
        "\n",
        "# Calculate the median haversine distance\n",
        "median_haversine_distance = df_cleaned['haversine_distance'].median()\n",
        "median_haversine_distance\n"
      ],
      "metadata": {
        "colab": {
          "base_uri": "https://localhost:8080/"
        },
        "id": "7e4gLWS92FNu",
        "outputId": "7134c6b7-eee3-47e5-8b1b-f22cc14780c7"
      },
      "execution_count": 8,
      "outputs": [
        {
          "output_type": "stream",
          "name": "stderr",
          "text": [
            "<ipython-input-8-41a9f0ef86d0>:23: SettingWithCopyWarning: \n",
            "A value is trying to be set on a copy of a slice from a DataFrame.\n",
            "Try using .loc[row_indexer,col_indexer] = value instead\n",
            "\n",
            "See the caveats in the documentation: https://pandas.pydata.org/pandas-docs/stable/user_guide/indexing.html#returning-a-view-versus-a-copy\n",
            "  df_cleaned['haversine_distance'] = haversine_distance(df_cleaned['pickup_longitude'], df_cleaned['pickup_latitude'],\n"
          ]
        },
        {
          "output_type": "execute_result",
          "data": {
            "text/plain": [
              "2.1209923961833708"
            ]
          },
          "metadata": {},
          "execution_count": 8
        }
      ]
    },
    {
      "cell_type": "markdown",
      "source": [
        "\n",
        " #  Maximum haversine distance between pickup and dropoff location"
      ],
      "metadata": {
        "id": "byIuWEP77X3Y"
      }
    },
    {
      "cell_type": "code",
      "source": [
        "# Calculate the maximum haversine distance in the cleaned dataset\n",
        "max_haversine_distance = df_cleaned['haversine_distance'].max()\n",
        "max_haversine_distance\n"
      ],
      "metadata": {
        "colab": {
          "base_uri": "https://localhost:8080/"
        },
        "id": "5CGdjstF2mGR",
        "outputId": "9b681748-09e9-4956-b0d9-4e471112e194"
      },
      "execution_count": 10,
      "outputs": [
        {
          "output_type": "execute_result",
          "data": {
            "text/plain": [
              "16409.239135313168"
            ]
          },
          "metadata": {},
          "execution_count": 10
        }
      ]
    },
    {
      "cell_type": "markdown",
      "source": [
        "\n",
        "# Rides have 0.0 haversine distance between pickup and dropoff location"
      ],
      "metadata": {
        "id": "VrYUW6us7cY_"
      }
    },
    {
      "cell_type": "code",
      "source": [
        "# Count the number of rides with 0.0 haversine distance\n",
        "zero_haversine_distance_count = df_cleaned[df_cleaned['haversine_distance'] == 0.0].shape[0]\n",
        "zero_haversine_distance_count\n"
      ],
      "metadata": {
        "colab": {
          "base_uri": "https://localhost:8080/"
        },
        "id": "tyMFAx3_2pVl",
        "outputId": "cc7cebfd-ae39-45ca-fc9c-81b4b11333d3"
      },
      "execution_count": 11,
      "outputs": [
        {
          "output_type": "execute_result",
          "data": {
            "text/plain": [
              "5632"
            ]
          },
          "metadata": {},
          "execution_count": 11
        }
      ]
    },
    {
      "cell_type": "markdown",
      "source": [
        "# Mean 'fare_amount' for rides with 0 haversine distance"
      ],
      "metadata": {
        "id": "-xq0lHK-767b"
      }
    },
    {
      "cell_type": "code",
      "source": [
        "# Calculate the mean 'fare_amount' for rides with 0 haversine distance\n",
        "mean_fare_zero_distance = df_cleaned[df_cleaned['haversine_distance'] == 0.0]['fare_amount'].mean()\n",
        "mean_fare_zero_distance\n"
      ],
      "metadata": {
        "colab": {
          "base_uri": "https://localhost:8080/"
        },
        "id": "dStRnJmc2rPw",
        "outputId": "26a0dbf0-dcf7-48fc-dfd7-e780e7c01ebd"
      },
      "execution_count": 12,
      "outputs": [
        {
          "output_type": "execute_result",
          "data": {
            "text/plain": [
              "11.585317826704546"
            ]
          },
          "metadata": {},
          "execution_count": 12
        }
      ]
    },
    {
      "cell_type": "markdown",
      "source": [
        "# Expert Opinion\n",
        "The mean fare_amount for rides with a Haversine distance of 0.0 km is approximately\n",
        "This is somewhat surprising because we would expect the fare amount for rides with zero distance to be much lower, possibly even zero if the ride was cancelled immediately after being booked.\n",
        "\n",
        "This discrepancy could indicate some inconsistencies or errors in the dataset. Here are a few possible explanations:\n",
        "\n",
        "**Data Entry Errors**: The coordinates for pickup and dropoff locations might have been incorrectly recorded as the same, leading to a zero Haversine distance but a non-zero fare amount.\n",
        "\n",
        "**Cancelled Rides:** Some of these could be cancelled rides that still incurred a minimum charge. However, the mean fare amount seems too high for this to be the only explanation.\n",
        "\n",
        "Wait Time: The fare could include waiting time, not just distance traveled. However, this is less likely to be the sole reason for the high mean fare amount for zero-distance rides."
      ],
      "metadata": {
        "id": "7ij5ibPKI0GF"
      }
    },
    {
      "cell_type": "markdown",
      "source": [
        "#  Maximum 'fare_amount' for a ride"
      ],
      "metadata": {
        "id": "8B6EaPCA79Y7"
      }
    },
    {
      "cell_type": "code",
      "source": [
        "# Calculate the maximum 'fare_amount' in the cleaned dataset\n",
        "max_fare_amount = df_cleaned['fare_amount'].max()\n",
        "max_fare_amount\n"
      ],
      "metadata": {
        "colab": {
          "base_uri": "https://localhost:8080/"
        },
        "id": "GGCjno962tjZ",
        "outputId": "33af899d-4217-450a-c1fe-84eafa2f2f25"
      },
      "execution_count": 13,
      "outputs": [
        {
          "output_type": "execute_result",
          "data": {
            "text/plain": [
              "499.0"
            ]
          },
          "metadata": {},
          "execution_count": 13
        }
      ]
    },
    {
      "cell_type": "markdown",
      "source": [
        "#  Haversine distance between pickup and dropoff location for the costliest ride"
      ],
      "metadata": {
        "id": "yxvxEOl_8F_d"
      }
    },
    {
      "cell_type": "code",
      "source": [
        "# Find the haversine distance for the ride with the maximum 'fare_amount'\n",
        "haversine_distance_max_fare = df_cleaned[df_cleaned['fare_amount'] == max_fare_amount]['haversine_distance'].values[0]\n",
        "haversine_distance_max_fare\n"
      ],
      "metadata": {
        "colab": {
          "base_uri": "https://localhost:8080/"
        },
        "id": "LnrhHN1L2x3m",
        "outputId": "ea1bcf7a-64cb-4cd3-edd5-4f7585d5a1ec"
      },
      "execution_count": 14,
      "outputs": [
        {
          "output_type": "execute_result",
          "data": {
            "text/plain": [
              "0.0007899213191009993"
            ]
          },
          "metadata": {},
          "execution_count": 14
        }
      ]
    },
    {
      "cell_type": "markdown",
      "source": [
        "# Expert Opinion\n",
        "The Haversine distance between the pickup and dropoff location for the costliest ride is approximately\n",
        "0.00079\n",
        "0.00079 km, which is almost negligible.\n",
        "\n",
        "This situation is indeed puzzling and could indicate some inconsistencies or errors in the dataset. Here are a few possible explanations:\n",
        "\n",
        "**Data Entry Errors:** It's possible that the coordinates for the pickup and dropoff locations were incorrectly recorded, leading to an almost zero Haversine distance but an extremely high fare amount.\n",
        "\n",
        "**Special Cases:** The ride could be a special case where the fare is not solely based on the distance traveled. However, the extremely high fare amount for almost zero distance is still hard to justify in most scenarios.\n",
        "\n",
        "Fraudulent Activities:Such inconsistencies in the data could also be indicative of fraudulent activities, although this is purely speculative without further information."
      ],
      "metadata": {
        "id": "JC5FA_jOLkGh"
      }
    },
    {
      "cell_type": "markdown",
      "source": [
        "# Rides were recorded in the year 2014"
      ],
      "metadata": {
        "id": "heW4Dg_TL1bn"
      }
    },
    {
      "cell_type": "code",
      "source": [
        "# Convert 'pickup_datetime' to datetime format for easier time-based filtering\n",
        "df_cleaned['pickup_datetime'] = pd.to_datetime(df_cleaned['pickup_datetime'])\n",
        "\n",
        "# Extract the year from the 'pickup_datetime' column\n",
        "df_cleaned['pickup_year'] = df_cleaned['pickup_datetime'].dt.year\n",
        "\n",
        "# Count the number of rides recorded in the year 2014\n",
        "rides_in_2014 = df_cleaned[df_cleaned['pickup_year'] == 2014].shape[0]\n",
        "rides_in_2014\n"
      ],
      "metadata": {
        "colab": {
          "base_uri": "https://localhost:8080/"
        },
        "id": "2IS0u_6e20Pl",
        "outputId": "5bad50f6-feae-4667-b588-aea22a47fa6a"
      },
      "execution_count": 15,
      "outputs": [
        {
          "output_type": "stream",
          "name": "stderr",
          "text": [
            "<ipython-input-15-c2ca5b62c422>:2: SettingWithCopyWarning: \n",
            "A value is trying to be set on a copy of a slice from a DataFrame.\n",
            "Try using .loc[row_indexer,col_indexer] = value instead\n",
            "\n",
            "See the caveats in the documentation: https://pandas.pydata.org/pandas-docs/stable/user_guide/indexing.html#returning-a-view-versus-a-copy\n",
            "  df_cleaned['pickup_datetime'] = pd.to_datetime(df_cleaned['pickup_datetime'])\n",
            "<ipython-input-15-c2ca5b62c422>:5: SettingWithCopyWarning: \n",
            "A value is trying to be set on a copy of a slice from a DataFrame.\n",
            "Try using .loc[row_indexer,col_indexer] = value instead\n",
            "\n",
            "See the caveats in the documentation: https://pandas.pydata.org/pandas-docs/stable/user_guide/indexing.html#returning-a-view-versus-a-copy\n",
            "  df_cleaned['pickup_year'] = df_cleaned['pickup_datetime'].dt.year\n"
          ]
        },
        {
          "output_type": "execute_result",
          "data": {
            "text/plain": [
              "29968"
            ]
          },
          "metadata": {},
          "execution_count": 15
        }
      ]
    },
    {
      "cell_type": "code",
      "source": [
        "# Extract the year from the 'pickup_datetime' column in the original dataset\n",
        "# First, convert 'pickup_datetime' to datetime format for easier time-based filtering\n",
        "df['pickup_datetime'] = pd.to_datetime(df['pickup_datetime'])\n",
        "\n",
        "# Extract the year\n",
        "df['pickup_year'] = df['pickup_datetime'].dt.year\n",
        "\n",
        "# Count the number of rides recorded in the year 2014 in the original dataset\n",
        "rides_in_2014_original = df[df['pickup_year'] == 2014].shape[0]\n",
        "rides_in_2014_original\n"
      ],
      "metadata": {
        "colab": {
          "base_uri": "https://localhost:8080/"
        },
        "id": "NfAMcdQ222pH",
        "outputId": "49b2e34a-a3ba-440d-eed3-8621ef73742e"
      },
      "execution_count": 16,
      "outputs": [
        {
          "output_type": "execute_result",
          "data": {
            "text/plain": [
              "29968"
            ]
          },
          "metadata": {},
          "execution_count": 16
        }
      ]
    },
    {
      "cell_type": "markdown",
      "source": [
        "# Rides were recorded in the first quarter of 2014"
      ],
      "metadata": {
        "id": "rX9u2FYWMn-w"
      }
    },
    {
      "cell_type": "code",
      "source": [
        "# Filter the dataset for rides in the first quarter (Jan, Feb, Mar) of 2014\n",
        "rides_in_2014_Q1 = df[(df['pickup_year'] == 2014) & (df['pickup_datetime'].dt.month <= 3)].shape[0]\n",
        "rides_in_2014_Q1\n"
      ],
      "metadata": {
        "colab": {
          "base_uri": "https://localhost:8080/"
        },
        "id": "H4EE54jj25YP",
        "outputId": "db580a22-f208-45fa-b981-899a9ad77c52"
      },
      "execution_count": 17,
      "outputs": [
        {
          "output_type": "execute_result",
          "data": {
            "text/plain": [
              "7687"
            ]
          },
          "metadata": {},
          "execution_count": 17
        }
      ]
    },
    {
      "cell_type": "markdown",
      "source": [
        "# Day of the week in September 2010, maximum rides were recorded"
      ],
      "metadata": {
        "id": "kCsmDz19NYeD"
      }
    },
    {
      "cell_type": "code",
      "source": [
        "# Import the calendar module to map day numbers to day names\n",
        "import calendar\n",
        "\n",
        "# Filter the dataset for rides in September 2010\n",
        "rides_in_sep_2010 = df[(df['pickup_year'] == 2010) & (df['pickup_datetime'].dt.month == 9)]\n",
        "\n",
        "# Extract the day of the week (0 = Monday, 1 = Tuesday, ..., 6 = Sunday)\n",
        "rides_in_sep_2010['pickup_day_of_week'] = rides_in_sep_2010['pickup_datetime'].dt.dayofweek\n",
        "\n",
        "# Count the number of rides for each day of the week\n",
        "day_of_week_counts = rides_in_sep_2010['pickup_day_of_week'].value_counts().sort_index()\n",
        "\n",
        "# Find the day with the maximum number of rides\n",
        "max_rides_day_num = day_of_week_counts.idxmax()\n",
        "max_rides_day_name = calendar.day_name[max_rides_day_num]\n",
        "\n",
        "max_rides_day_name, day_of_week_counts\n"
      ],
      "metadata": {
        "colab": {
          "base_uri": "https://localhost:8080/"
        },
        "id": "zVnLt_tv27kD",
        "outputId": "89d4e249-66dd-4a19-9b29-0e9000c49738"
      },
      "execution_count": 18,
      "outputs": [
        {
          "output_type": "stream",
          "name": "stderr",
          "text": [
            "<ipython-input-18-0bc2e80fff90>:8: SettingWithCopyWarning: \n",
            "A value is trying to be set on a copy of a slice from a DataFrame.\n",
            "Try using .loc[row_indexer,col_indexer] = value instead\n",
            "\n",
            "See the caveats in the documentation: https://pandas.pydata.org/pandas-docs/stable/user_guide/indexing.html#returning-a-view-versus-a-copy\n",
            "  rides_in_sep_2010['pickup_day_of_week'] = rides_in_sep_2010['pickup_datetime'].dt.dayofweek\n"
          ]
        },
        {
          "output_type": "execute_result",
          "data": {
            "text/plain": [
              "('Thursday',\n",
              " 0    265\n",
              " 1    322\n",
              " 2    391\n",
              " 3    457\n",
              " 4    354\n",
              " 5    362\n",
              " 6    331\n",
              " Name: pickup_day_of_week, dtype: int64)"
            ]
          },
          "metadata": {},
          "execution_count": 18
        }
      ]
    },
    {
      "cell_type": "markdown",
      "source": [
        "# Feature Engineering"
      ],
      "metadata": {
        "id": "V8wf4SpUNu9N"
      }
    },
    {
      "cell_type": "markdown",
      "source": [
        "To predict the fare amount given the input features (passenger_count, distance, and ride_week_day), we'll proceed with the following steps:\n",
        "\n",
        "**Feature Engineering:** Create a feature for the day of the week ('ride_week_day') and keep the 'passenger_count' and 'haversine_distance' features as they are.\n",
        "\n",
        "**Data Preprocessing:** One-hot encode the 'ride_week_day' feature since it's categorical.\n",
        "\n",
        "**Data Splitting:** Perform a 70-30 split of the data.\n",
        "\n",
        "**Model Training:** Train different machine learning algorithms on the training data.\n",
        "\n",
        "**Model Evaluation:** Evaluate the models using the adjusted R square  value to find the algorithm that gives the least adjusted R square value."
      ],
      "metadata": {
        "id": "u4HgNxdOPCF6"
      }
    },
    {
      "cell_type": "code",
      "source": [
        "# Add a 'ride_week_day' feature to the cleaned dataset, representing the day of the week\n",
        "# Note: The day of the week with Monday=0, Sunday=6\n",
        "df_cleaned['ride_week_day'] = df_cleaned['pickup_datetime'].dt.dayofweek\n",
        "\n",
        "# Drop rows with unrealistic values as identified in the data cleaning steps\n",
        "# 1. Remove rows where the 'fare_amount' is negative\n",
        "# 2. Remove rows where the 'passenger_count' is either 0 or unreasonably high (greater than 8)\n",
        "# 3. Remove rows with unrealistic 'haversine_distance' values (greater than 200 km or zero distance)\n",
        "df_cleaned_filtered = df_cleaned[(df_cleaned['fare_amount'] > 0) &\n",
        "                                 (df_cleaned['passenger_count'] > 0) &\n",
        "                                 (df_cleaned['passenger_count'] <= 8) &\n",
        "                                 (df_cleaned['haversine_distance'] > 0) &\n",
        "                                 (df_cleaned['haversine_distance'] <= 200)]\n",
        "\n",
        "# Show the first few rows of the dataset after adding 'ride_week_day'\n",
        "df_cleaned_filtered[['fare_amount', 'passenger_count', 'haversine_distance', 'ride_week_day']].head()\n"
      ],
      "metadata": {
        "colab": {
          "base_uri": "https://localhost:8080/",
          "height": 310
        },
        "id": "BWv3vAR43BDy",
        "outputId": "389462f2-2d80-4c3b-89b4-97449dee2bc8"
      },
      "execution_count": 19,
      "outputs": [
        {
          "output_type": "stream",
          "name": "stderr",
          "text": [
            "<ipython-input-19-acd53a0d3e1a>:3: SettingWithCopyWarning: \n",
            "A value is trying to be set on a copy of a slice from a DataFrame.\n",
            "Try using .loc[row_indexer,col_indexer] = value instead\n",
            "\n",
            "See the caveats in the documentation: https://pandas.pydata.org/pandas-docs/stable/user_guide/indexing.html#returning-a-view-versus-a-copy\n",
            "  df_cleaned['ride_week_day'] = df_cleaned['pickup_datetime'].dt.dayofweek\n"
          ]
        },
        {
          "output_type": "execute_result",
          "data": {
            "text/plain": [
              "   fare_amount  passenger_count  haversine_distance  ride_week_day\n",
              "0          7.5                1            1.683323              3\n",
              "1          7.7                1            2.457590              4\n",
              "2         12.9                1            5.036377              0\n",
              "3          5.3                3            1.661683              4\n",
              "4         16.0                5            4.475450              3"
            ],
            "text/html": [
              "\n",
              "  <div id=\"df-1a8f43bc-633e-4595-973f-a33ab5d9d45e\" class=\"colab-df-container\">\n",
              "    <div>\n",
              "<style scoped>\n",
              "    .dataframe tbody tr th:only-of-type {\n",
              "        vertical-align: middle;\n",
              "    }\n",
              "\n",
              "    .dataframe tbody tr th {\n",
              "        vertical-align: top;\n",
              "    }\n",
              "\n",
              "    .dataframe thead th {\n",
              "        text-align: right;\n",
              "    }\n",
              "</style>\n",
              "<table border=\"1\" class=\"dataframe\">\n",
              "  <thead>\n",
              "    <tr style=\"text-align: right;\">\n",
              "      <th></th>\n",
              "      <th>fare_amount</th>\n",
              "      <th>passenger_count</th>\n",
              "      <th>haversine_distance</th>\n",
              "      <th>ride_week_day</th>\n",
              "    </tr>\n",
              "  </thead>\n",
              "  <tbody>\n",
              "    <tr>\n",
              "      <th>0</th>\n",
              "      <td>7.5</td>\n",
              "      <td>1</td>\n",
              "      <td>1.683323</td>\n",
              "      <td>3</td>\n",
              "    </tr>\n",
              "    <tr>\n",
              "      <th>1</th>\n",
              "      <td>7.7</td>\n",
              "      <td>1</td>\n",
              "      <td>2.457590</td>\n",
              "      <td>4</td>\n",
              "    </tr>\n",
              "    <tr>\n",
              "      <th>2</th>\n",
              "      <td>12.9</td>\n",
              "      <td>1</td>\n",
              "      <td>5.036377</td>\n",
              "      <td>0</td>\n",
              "    </tr>\n",
              "    <tr>\n",
              "      <th>3</th>\n",
              "      <td>5.3</td>\n",
              "      <td>3</td>\n",
              "      <td>1.661683</td>\n",
              "      <td>4</td>\n",
              "    </tr>\n",
              "    <tr>\n",
              "      <th>4</th>\n",
              "      <td>16.0</td>\n",
              "      <td>5</td>\n",
              "      <td>4.475450</td>\n",
              "      <td>3</td>\n",
              "    </tr>\n",
              "  </tbody>\n",
              "</table>\n",
              "</div>\n",
              "    <div class=\"colab-df-buttons\">\n",
              "\n",
              "  <div class=\"colab-df-container\">\n",
              "    <button class=\"colab-df-convert\" onclick=\"convertToInteractive('df-1a8f43bc-633e-4595-973f-a33ab5d9d45e')\"\n",
              "            title=\"Convert this dataframe to an interactive table.\"\n",
              "            style=\"display:none;\">\n",
              "\n",
              "  <svg xmlns=\"http://www.w3.org/2000/svg\" height=\"24px\" viewBox=\"0 -960 960 960\">\n",
              "    <path d=\"M120-120v-720h720v720H120Zm60-500h600v-160H180v160Zm220 220h160v-160H400v160Zm0 220h160v-160H400v160ZM180-400h160v-160H180v160Zm440 0h160v-160H620v160ZM180-180h160v-160H180v160Zm440 0h160v-160H620v160Z\"/>\n",
              "  </svg>\n",
              "    </button>\n",
              "\n",
              "  <style>\n",
              "    .colab-df-container {\n",
              "      display:flex;\n",
              "      gap: 12px;\n",
              "    }\n",
              "\n",
              "    .colab-df-convert {\n",
              "      background-color: #E8F0FE;\n",
              "      border: none;\n",
              "      border-radius: 50%;\n",
              "      cursor: pointer;\n",
              "      display: none;\n",
              "      fill: #1967D2;\n",
              "      height: 32px;\n",
              "      padding: 0 0 0 0;\n",
              "      width: 32px;\n",
              "    }\n",
              "\n",
              "    .colab-df-convert:hover {\n",
              "      background-color: #E2EBFA;\n",
              "      box-shadow: 0px 1px 2px rgba(60, 64, 67, 0.3), 0px 1px 3px 1px rgba(60, 64, 67, 0.15);\n",
              "      fill: #174EA6;\n",
              "    }\n",
              "\n",
              "    .colab-df-buttons div {\n",
              "      margin-bottom: 4px;\n",
              "    }\n",
              "\n",
              "    [theme=dark] .colab-df-convert {\n",
              "      background-color: #3B4455;\n",
              "      fill: #D2E3FC;\n",
              "    }\n",
              "\n",
              "    [theme=dark] .colab-df-convert:hover {\n",
              "      background-color: #434B5C;\n",
              "      box-shadow: 0px 1px 3px 1px rgba(0, 0, 0, 0.15);\n",
              "      filter: drop-shadow(0px 1px 2px rgba(0, 0, 0, 0.3));\n",
              "      fill: #FFFFFF;\n",
              "    }\n",
              "  </style>\n",
              "\n",
              "    <script>\n",
              "      const buttonEl =\n",
              "        document.querySelector('#df-1a8f43bc-633e-4595-973f-a33ab5d9d45e button.colab-df-convert');\n",
              "      buttonEl.style.display =\n",
              "        google.colab.kernel.accessAllowed ? 'block' : 'none';\n",
              "\n",
              "      async function convertToInteractive(key) {\n",
              "        const element = document.querySelector('#df-1a8f43bc-633e-4595-973f-a33ab5d9d45e');\n",
              "        const dataTable =\n",
              "          await google.colab.kernel.invokeFunction('convertToInteractive',\n",
              "                                                    [key], {});\n",
              "        if (!dataTable) return;\n",
              "\n",
              "        const docLinkHtml = 'Like what you see? Visit the ' +\n",
              "          '<a target=\"_blank\" href=https://colab.research.google.com/notebooks/data_table.ipynb>data table notebook</a>'\n",
              "          + ' to learn more about interactive tables.';\n",
              "        element.innerHTML = '';\n",
              "        dataTable['output_type'] = 'display_data';\n",
              "        await google.colab.output.renderOutput(dataTable, element);\n",
              "        const docLink = document.createElement('div');\n",
              "        docLink.innerHTML = docLinkHtml;\n",
              "        element.appendChild(docLink);\n",
              "      }\n",
              "    </script>\n",
              "  </div>\n",
              "\n",
              "\n",
              "<div id=\"df-9c0835ed-e0fd-4e9e-b543-d6534af562bd\">\n",
              "  <button class=\"colab-df-quickchart\" onclick=\"quickchart('df-9c0835ed-e0fd-4e9e-b543-d6534af562bd')\"\n",
              "            title=\"Suggest charts.\"\n",
              "            style=\"display:none;\">\n",
              "\n",
              "<svg xmlns=\"http://www.w3.org/2000/svg\" height=\"24px\"viewBox=\"0 0 24 24\"\n",
              "     width=\"24px\">\n",
              "    <g>\n",
              "        <path d=\"M19 3H5c-1.1 0-2 .9-2 2v14c0 1.1.9 2 2 2h14c1.1 0 2-.9 2-2V5c0-1.1-.9-2-2-2zM9 17H7v-7h2v7zm4 0h-2V7h2v10zm4 0h-2v-4h2v4z\"/>\n",
              "    </g>\n",
              "</svg>\n",
              "  </button>\n",
              "\n",
              "<style>\n",
              "  .colab-df-quickchart {\n",
              "      --bg-color: #E8F0FE;\n",
              "      --fill-color: #1967D2;\n",
              "      --hover-bg-color: #E2EBFA;\n",
              "      --hover-fill-color: #174EA6;\n",
              "      --disabled-fill-color: #AAA;\n",
              "      --disabled-bg-color: #DDD;\n",
              "  }\n",
              "\n",
              "  [theme=dark] .colab-df-quickchart {\n",
              "      --bg-color: #3B4455;\n",
              "      --fill-color: #D2E3FC;\n",
              "      --hover-bg-color: #434B5C;\n",
              "      --hover-fill-color: #FFFFFF;\n",
              "      --disabled-bg-color: #3B4455;\n",
              "      --disabled-fill-color: #666;\n",
              "  }\n",
              "\n",
              "  .colab-df-quickchart {\n",
              "    background-color: var(--bg-color);\n",
              "    border: none;\n",
              "    border-radius: 50%;\n",
              "    cursor: pointer;\n",
              "    display: none;\n",
              "    fill: var(--fill-color);\n",
              "    height: 32px;\n",
              "    padding: 0;\n",
              "    width: 32px;\n",
              "  }\n",
              "\n",
              "  .colab-df-quickchart:hover {\n",
              "    background-color: var(--hover-bg-color);\n",
              "    box-shadow: 0 1px 2px rgba(60, 64, 67, 0.3), 0 1px 3px 1px rgba(60, 64, 67, 0.15);\n",
              "    fill: var(--button-hover-fill-color);\n",
              "  }\n",
              "\n",
              "  .colab-df-quickchart-complete:disabled,\n",
              "  .colab-df-quickchart-complete:disabled:hover {\n",
              "    background-color: var(--disabled-bg-color);\n",
              "    fill: var(--disabled-fill-color);\n",
              "    box-shadow: none;\n",
              "  }\n",
              "\n",
              "  .colab-df-spinner {\n",
              "    border: 2px solid var(--fill-color);\n",
              "    border-color: transparent;\n",
              "    border-bottom-color: var(--fill-color);\n",
              "    animation:\n",
              "      spin 1s steps(1) infinite;\n",
              "  }\n",
              "\n",
              "  @keyframes spin {\n",
              "    0% {\n",
              "      border-color: transparent;\n",
              "      border-bottom-color: var(--fill-color);\n",
              "      border-left-color: var(--fill-color);\n",
              "    }\n",
              "    20% {\n",
              "      border-color: transparent;\n",
              "      border-left-color: var(--fill-color);\n",
              "      border-top-color: var(--fill-color);\n",
              "    }\n",
              "    30% {\n",
              "      border-color: transparent;\n",
              "      border-left-color: var(--fill-color);\n",
              "      border-top-color: var(--fill-color);\n",
              "      border-right-color: var(--fill-color);\n",
              "    }\n",
              "    40% {\n",
              "      border-color: transparent;\n",
              "      border-right-color: var(--fill-color);\n",
              "      border-top-color: var(--fill-color);\n",
              "    }\n",
              "    60% {\n",
              "      border-color: transparent;\n",
              "      border-right-color: var(--fill-color);\n",
              "    }\n",
              "    80% {\n",
              "      border-color: transparent;\n",
              "      border-right-color: var(--fill-color);\n",
              "      border-bottom-color: var(--fill-color);\n",
              "    }\n",
              "    90% {\n",
              "      border-color: transparent;\n",
              "      border-bottom-color: var(--fill-color);\n",
              "    }\n",
              "  }\n",
              "</style>\n",
              "\n",
              "  <script>\n",
              "    async function quickchart(key) {\n",
              "      const quickchartButtonEl =\n",
              "        document.querySelector('#' + key + ' button');\n",
              "      quickchartButtonEl.disabled = true;  // To prevent multiple clicks.\n",
              "      quickchartButtonEl.classList.add('colab-df-spinner');\n",
              "      try {\n",
              "        const charts = await google.colab.kernel.invokeFunction(\n",
              "            'suggestCharts', [key], {});\n",
              "      } catch (error) {\n",
              "        console.error('Error during call to suggestCharts:', error);\n",
              "      }\n",
              "      quickchartButtonEl.classList.remove('colab-df-spinner');\n",
              "      quickchartButtonEl.classList.add('colab-df-quickchart-complete');\n",
              "    }\n",
              "    (() => {\n",
              "      let quickchartButtonEl =\n",
              "        document.querySelector('#df-9c0835ed-e0fd-4e9e-b543-d6534af562bd button');\n",
              "      quickchartButtonEl.style.display =\n",
              "        google.colab.kernel.accessAllowed ? 'block' : 'none';\n",
              "    })();\n",
              "  </script>\n",
              "</div>\n",
              "    </div>\n",
              "  </div>\n"
            ]
          },
          "metadata": {},
          "execution_count": 19
        }
      ]
    },
    {
      "cell_type": "code",
      "source": [
        "# One-hot encode the 'ride_week_day' feature\n",
        "df_encoded = pd.get_dummies(df_cleaned_filtered, columns=['ride_week_day'], prefix='day', drop_first=True)\n",
        "\n",
        "# Show the first few rows of the dataset after one-hot encoding\n",
        "df_encoded.head()\n"
      ],
      "metadata": {
        "colab": {
          "base_uri": "https://localhost:8080/",
          "height": 313
        },
        "id": "qIUZzrjQ3FpF",
        "outputId": "8cf274de-cd91-4654-894c-eb53611322ce"
      },
      "execution_count": 20,
      "outputs": [
        {
          "output_type": "execute_result",
          "data": {
            "text/plain": [
              "    ride_id  fare_amount           pickup_datetime  pickup_longitude  \\\n",
              "0  24238194          7.5 2015-05-07 19:52:06+00:00        -73.999817   \n",
              "1  27835199          7.7 2009-07-17 20:04:56+00:00        -73.994355   \n",
              "2  44984355         12.9 2009-08-24 21:45:00+00:00        -74.005043   \n",
              "3  25894730          5.3 2009-06-26 08:22:21+00:00        -73.976124   \n",
              "4  17610152         16.0 2014-08-28 17:47:00+00:00        -73.925023   \n",
              "\n",
              "   pickup_latitude  dropoff_longitude  dropoff_latitude  passenger_count  \\\n",
              "0        40.738354         -73.999512         40.723217                1   \n",
              "1        40.728225         -73.994710         40.750325                1   \n",
              "2        40.740770         -73.962565         40.772647                1   \n",
              "3        40.790844         -73.965316         40.803349                3   \n",
              "4        40.744085         -73.973082         40.761247                5   \n",
              "\n",
              "   haversine_distance  pickup_year  day_1  day_2  day_3  day_4  day_5  day_6  \n",
              "0            1.683323         2015      0      0      1      0      0      0  \n",
              "1            2.457590         2009      0      0      0      1      0      0  \n",
              "2            5.036377         2009      0      0      0      0      0      0  \n",
              "3            1.661683         2009      0      0      0      1      0      0  \n",
              "4            4.475450         2014      0      0      1      0      0      0  "
            ],
            "text/html": [
              "\n",
              "  <div id=\"df-a974e711-1964-4875-944a-a889c89aa954\" class=\"colab-df-container\">\n",
              "    <div>\n",
              "<style scoped>\n",
              "    .dataframe tbody tr th:only-of-type {\n",
              "        vertical-align: middle;\n",
              "    }\n",
              "\n",
              "    .dataframe tbody tr th {\n",
              "        vertical-align: top;\n",
              "    }\n",
              "\n",
              "    .dataframe thead th {\n",
              "        text-align: right;\n",
              "    }\n",
              "</style>\n",
              "<table border=\"1\" class=\"dataframe\">\n",
              "  <thead>\n",
              "    <tr style=\"text-align: right;\">\n",
              "      <th></th>\n",
              "      <th>ride_id</th>\n",
              "      <th>fare_amount</th>\n",
              "      <th>pickup_datetime</th>\n",
              "      <th>pickup_longitude</th>\n",
              "      <th>pickup_latitude</th>\n",
              "      <th>dropoff_longitude</th>\n",
              "      <th>dropoff_latitude</th>\n",
              "      <th>passenger_count</th>\n",
              "      <th>haversine_distance</th>\n",
              "      <th>pickup_year</th>\n",
              "      <th>day_1</th>\n",
              "      <th>day_2</th>\n",
              "      <th>day_3</th>\n",
              "      <th>day_4</th>\n",
              "      <th>day_5</th>\n",
              "      <th>day_6</th>\n",
              "    </tr>\n",
              "  </thead>\n",
              "  <tbody>\n",
              "    <tr>\n",
              "      <th>0</th>\n",
              "      <td>24238194</td>\n",
              "      <td>7.5</td>\n",
              "      <td>2015-05-07 19:52:06+00:00</td>\n",
              "      <td>-73.999817</td>\n",
              "      <td>40.738354</td>\n",
              "      <td>-73.999512</td>\n",
              "      <td>40.723217</td>\n",
              "      <td>1</td>\n",
              "      <td>1.683323</td>\n",
              "      <td>2015</td>\n",
              "      <td>0</td>\n",
              "      <td>0</td>\n",
              "      <td>1</td>\n",
              "      <td>0</td>\n",
              "      <td>0</td>\n",
              "      <td>0</td>\n",
              "    </tr>\n",
              "    <tr>\n",
              "      <th>1</th>\n",
              "      <td>27835199</td>\n",
              "      <td>7.7</td>\n",
              "      <td>2009-07-17 20:04:56+00:00</td>\n",
              "      <td>-73.994355</td>\n",
              "      <td>40.728225</td>\n",
              "      <td>-73.994710</td>\n",
              "      <td>40.750325</td>\n",
              "      <td>1</td>\n",
              "      <td>2.457590</td>\n",
              "      <td>2009</td>\n",
              "      <td>0</td>\n",
              "      <td>0</td>\n",
              "      <td>0</td>\n",
              "      <td>1</td>\n",
              "      <td>0</td>\n",
              "      <td>0</td>\n",
              "    </tr>\n",
              "    <tr>\n",
              "      <th>2</th>\n",
              "      <td>44984355</td>\n",
              "      <td>12.9</td>\n",
              "      <td>2009-08-24 21:45:00+00:00</td>\n",
              "      <td>-74.005043</td>\n",
              "      <td>40.740770</td>\n",
              "      <td>-73.962565</td>\n",
              "      <td>40.772647</td>\n",
              "      <td>1</td>\n",
              "      <td>5.036377</td>\n",
              "      <td>2009</td>\n",
              "      <td>0</td>\n",
              "      <td>0</td>\n",
              "      <td>0</td>\n",
              "      <td>0</td>\n",
              "      <td>0</td>\n",
              "      <td>0</td>\n",
              "    </tr>\n",
              "    <tr>\n",
              "      <th>3</th>\n",
              "      <td>25894730</td>\n",
              "      <td>5.3</td>\n",
              "      <td>2009-06-26 08:22:21+00:00</td>\n",
              "      <td>-73.976124</td>\n",
              "      <td>40.790844</td>\n",
              "      <td>-73.965316</td>\n",
              "      <td>40.803349</td>\n",
              "      <td>3</td>\n",
              "      <td>1.661683</td>\n",
              "      <td>2009</td>\n",
              "      <td>0</td>\n",
              "      <td>0</td>\n",
              "      <td>0</td>\n",
              "      <td>1</td>\n",
              "      <td>0</td>\n",
              "      <td>0</td>\n",
              "    </tr>\n",
              "    <tr>\n",
              "      <th>4</th>\n",
              "      <td>17610152</td>\n",
              "      <td>16.0</td>\n",
              "      <td>2014-08-28 17:47:00+00:00</td>\n",
              "      <td>-73.925023</td>\n",
              "      <td>40.744085</td>\n",
              "      <td>-73.973082</td>\n",
              "      <td>40.761247</td>\n",
              "      <td>5</td>\n",
              "      <td>4.475450</td>\n",
              "      <td>2014</td>\n",
              "      <td>0</td>\n",
              "      <td>0</td>\n",
              "      <td>1</td>\n",
              "      <td>0</td>\n",
              "      <td>0</td>\n",
              "      <td>0</td>\n",
              "    </tr>\n",
              "  </tbody>\n",
              "</table>\n",
              "</div>\n",
              "    <div class=\"colab-df-buttons\">\n",
              "\n",
              "  <div class=\"colab-df-container\">\n",
              "    <button class=\"colab-df-convert\" onclick=\"convertToInteractive('df-a974e711-1964-4875-944a-a889c89aa954')\"\n",
              "            title=\"Convert this dataframe to an interactive table.\"\n",
              "            style=\"display:none;\">\n",
              "\n",
              "  <svg xmlns=\"http://www.w3.org/2000/svg\" height=\"24px\" viewBox=\"0 -960 960 960\">\n",
              "    <path d=\"M120-120v-720h720v720H120Zm60-500h600v-160H180v160Zm220 220h160v-160H400v160Zm0 220h160v-160H400v160ZM180-400h160v-160H180v160Zm440 0h160v-160H620v160ZM180-180h160v-160H180v160Zm440 0h160v-160H620v160Z\"/>\n",
              "  </svg>\n",
              "    </button>\n",
              "\n",
              "  <style>\n",
              "    .colab-df-container {\n",
              "      display:flex;\n",
              "      gap: 12px;\n",
              "    }\n",
              "\n",
              "    .colab-df-convert {\n",
              "      background-color: #E8F0FE;\n",
              "      border: none;\n",
              "      border-radius: 50%;\n",
              "      cursor: pointer;\n",
              "      display: none;\n",
              "      fill: #1967D2;\n",
              "      height: 32px;\n",
              "      padding: 0 0 0 0;\n",
              "      width: 32px;\n",
              "    }\n",
              "\n",
              "    .colab-df-convert:hover {\n",
              "      background-color: #E2EBFA;\n",
              "      box-shadow: 0px 1px 2px rgba(60, 64, 67, 0.3), 0px 1px 3px 1px rgba(60, 64, 67, 0.15);\n",
              "      fill: #174EA6;\n",
              "    }\n",
              "\n",
              "    .colab-df-buttons div {\n",
              "      margin-bottom: 4px;\n",
              "    }\n",
              "\n",
              "    [theme=dark] .colab-df-convert {\n",
              "      background-color: #3B4455;\n",
              "      fill: #D2E3FC;\n",
              "    }\n",
              "\n",
              "    [theme=dark] .colab-df-convert:hover {\n",
              "      background-color: #434B5C;\n",
              "      box-shadow: 0px 1px 3px 1px rgba(0, 0, 0, 0.15);\n",
              "      filter: drop-shadow(0px 1px 2px rgba(0, 0, 0, 0.3));\n",
              "      fill: #FFFFFF;\n",
              "    }\n",
              "  </style>\n",
              "\n",
              "    <script>\n",
              "      const buttonEl =\n",
              "        document.querySelector('#df-a974e711-1964-4875-944a-a889c89aa954 button.colab-df-convert');\n",
              "      buttonEl.style.display =\n",
              "        google.colab.kernel.accessAllowed ? 'block' : 'none';\n",
              "\n",
              "      async function convertToInteractive(key) {\n",
              "        const element = document.querySelector('#df-a974e711-1964-4875-944a-a889c89aa954');\n",
              "        const dataTable =\n",
              "          await google.colab.kernel.invokeFunction('convertToInteractive',\n",
              "                                                    [key], {});\n",
              "        if (!dataTable) return;\n",
              "\n",
              "        const docLinkHtml = 'Like what you see? Visit the ' +\n",
              "          '<a target=\"_blank\" href=https://colab.research.google.com/notebooks/data_table.ipynb>data table notebook</a>'\n",
              "          + ' to learn more about interactive tables.';\n",
              "        element.innerHTML = '';\n",
              "        dataTable['output_type'] = 'display_data';\n",
              "        await google.colab.output.renderOutput(dataTable, element);\n",
              "        const docLink = document.createElement('div');\n",
              "        docLink.innerHTML = docLinkHtml;\n",
              "        element.appendChild(docLink);\n",
              "      }\n",
              "    </script>\n",
              "  </div>\n",
              "\n",
              "\n",
              "<div id=\"df-9a81b475-29f1-4db6-ac74-d79ada2273b7\">\n",
              "  <button class=\"colab-df-quickchart\" onclick=\"quickchart('df-9a81b475-29f1-4db6-ac74-d79ada2273b7')\"\n",
              "            title=\"Suggest charts.\"\n",
              "            style=\"display:none;\">\n",
              "\n",
              "<svg xmlns=\"http://www.w3.org/2000/svg\" height=\"24px\"viewBox=\"0 0 24 24\"\n",
              "     width=\"24px\">\n",
              "    <g>\n",
              "        <path d=\"M19 3H5c-1.1 0-2 .9-2 2v14c0 1.1.9 2 2 2h14c1.1 0 2-.9 2-2V5c0-1.1-.9-2-2-2zM9 17H7v-7h2v7zm4 0h-2V7h2v10zm4 0h-2v-4h2v4z\"/>\n",
              "    </g>\n",
              "</svg>\n",
              "  </button>\n",
              "\n",
              "<style>\n",
              "  .colab-df-quickchart {\n",
              "      --bg-color: #E8F0FE;\n",
              "      --fill-color: #1967D2;\n",
              "      --hover-bg-color: #E2EBFA;\n",
              "      --hover-fill-color: #174EA6;\n",
              "      --disabled-fill-color: #AAA;\n",
              "      --disabled-bg-color: #DDD;\n",
              "  }\n",
              "\n",
              "  [theme=dark] .colab-df-quickchart {\n",
              "      --bg-color: #3B4455;\n",
              "      --fill-color: #D2E3FC;\n",
              "      --hover-bg-color: #434B5C;\n",
              "      --hover-fill-color: #FFFFFF;\n",
              "      --disabled-bg-color: #3B4455;\n",
              "      --disabled-fill-color: #666;\n",
              "  }\n",
              "\n",
              "  .colab-df-quickchart {\n",
              "    background-color: var(--bg-color);\n",
              "    border: none;\n",
              "    border-radius: 50%;\n",
              "    cursor: pointer;\n",
              "    display: none;\n",
              "    fill: var(--fill-color);\n",
              "    height: 32px;\n",
              "    padding: 0;\n",
              "    width: 32px;\n",
              "  }\n",
              "\n",
              "  .colab-df-quickchart:hover {\n",
              "    background-color: var(--hover-bg-color);\n",
              "    box-shadow: 0 1px 2px rgba(60, 64, 67, 0.3), 0 1px 3px 1px rgba(60, 64, 67, 0.15);\n",
              "    fill: var(--button-hover-fill-color);\n",
              "  }\n",
              "\n",
              "  .colab-df-quickchart-complete:disabled,\n",
              "  .colab-df-quickchart-complete:disabled:hover {\n",
              "    background-color: var(--disabled-bg-color);\n",
              "    fill: var(--disabled-fill-color);\n",
              "    box-shadow: none;\n",
              "  }\n",
              "\n",
              "  .colab-df-spinner {\n",
              "    border: 2px solid var(--fill-color);\n",
              "    border-color: transparent;\n",
              "    border-bottom-color: var(--fill-color);\n",
              "    animation:\n",
              "      spin 1s steps(1) infinite;\n",
              "  }\n",
              "\n",
              "  @keyframes spin {\n",
              "    0% {\n",
              "      border-color: transparent;\n",
              "      border-bottom-color: var(--fill-color);\n",
              "      border-left-color: var(--fill-color);\n",
              "    }\n",
              "    20% {\n",
              "      border-color: transparent;\n",
              "      border-left-color: var(--fill-color);\n",
              "      border-top-color: var(--fill-color);\n",
              "    }\n",
              "    30% {\n",
              "      border-color: transparent;\n",
              "      border-left-color: var(--fill-color);\n",
              "      border-top-color: var(--fill-color);\n",
              "      border-right-color: var(--fill-color);\n",
              "    }\n",
              "    40% {\n",
              "      border-color: transparent;\n",
              "      border-right-color: var(--fill-color);\n",
              "      border-top-color: var(--fill-color);\n",
              "    }\n",
              "    60% {\n",
              "      border-color: transparent;\n",
              "      border-right-color: var(--fill-color);\n",
              "    }\n",
              "    80% {\n",
              "      border-color: transparent;\n",
              "      border-right-color: var(--fill-color);\n",
              "      border-bottom-color: var(--fill-color);\n",
              "    }\n",
              "    90% {\n",
              "      border-color: transparent;\n",
              "      border-bottom-color: var(--fill-color);\n",
              "    }\n",
              "  }\n",
              "</style>\n",
              "\n",
              "  <script>\n",
              "    async function quickchart(key) {\n",
              "      const quickchartButtonEl =\n",
              "        document.querySelector('#' + key + ' button');\n",
              "      quickchartButtonEl.disabled = true;  // To prevent multiple clicks.\n",
              "      quickchartButtonEl.classList.add('colab-df-spinner');\n",
              "      try {\n",
              "        const charts = await google.colab.kernel.invokeFunction(\n",
              "            'suggestCharts', [key], {});\n",
              "      } catch (error) {\n",
              "        console.error('Error during call to suggestCharts:', error);\n",
              "      }\n",
              "      quickchartButtonEl.classList.remove('colab-df-spinner');\n",
              "      quickchartButtonEl.classList.add('colab-df-quickchart-complete');\n",
              "    }\n",
              "    (() => {\n",
              "      let quickchartButtonEl =\n",
              "        document.querySelector('#df-9a81b475-29f1-4db6-ac74-d79ada2273b7 button');\n",
              "      quickchartButtonEl.style.display =\n",
              "        google.colab.kernel.accessAllowed ? 'block' : 'none';\n",
              "    })();\n",
              "  </script>\n",
              "</div>\n",
              "    </div>\n",
              "  </div>\n"
            ]
          },
          "metadata": {},
          "execution_count": 20
        }
      ]
    },
    {
      "cell_type": "markdown",
      "source": [
        "# Train-Test Split"
      ],
      "metadata": {
        "id": "CGBmszSlP9-f"
      }
    },
    {
      "cell_type": "code",
      "source": [
        "from sklearn.model_selection import train_test_split\n",
        "\n",
        "# Features and target variable\n",
        "X = df_encoded[['passenger_count', 'haversine_distance', 'day_1', 'day_2', 'day_3', 'day_4', 'day_5', 'day_6']]\n",
        "y = df_encoded['fare_amount']\n",
        "\n",
        "# Split the data into training and test sets (70-30 split)\n",
        "X_train, X_test, y_train, y_test = train_test_split(X, y, test_size=0.3, random_state=42)\n",
        "\n",
        "# Check the shape of the training and test sets\n",
        "X_train.shape, X_test.shape, y_train.shape, y_test.shape\n"
      ],
      "metadata": {
        "colab": {
          "base_uri": "https://localhost:8080/"
        },
        "id": "IS6mX13Z3JJ5",
        "outputId": "fd4e0ba7-f278-44a6-8420-d57f30b15331"
      },
      "execution_count": 21,
      "outputs": [
        {
          "output_type": "execute_result",
          "data": {
            "text/plain": [
              "((135255, 8), (57967, 8), (135255,), (57967,))"
            ]
          },
          "metadata": {},
          "execution_count": 21
        }
      ]
    },
    {
      "cell_type": "markdown",
      "source": [
        "# Model Building"
      ],
      "metadata": {
        "id": "B7lkZUGMQDCO"
      }
    },
    {
      "cell_type": "code",
      "source": [
        "from sklearn.linear_model import LinearRegression\n",
        "from sklearn.tree import DecisionTreeRegressor\n",
        "from sklearn.neighbors import KNeighborsRegressor  # Use KNeighborsRegressor for regression\n",
        "from sklearn.ensemble import RandomForestRegressor\n",
        "from sklearn.metrics import r2_score\n",
        "\n",
        "# Initialize models\n",
        "linear_reg = LinearRegression()\n",
        "decision_tree = DecisionTreeRegressor(random_state=42)\n",
        "random_forest = RandomForestRegressor(random_state=42)\n",
        "knn_regressor = KNeighborsRegressor(n_neighbors=5)  # Initialize KNeighborsRegressor\n",
        "\n",
        "# List of models\n",
        "models = [linear_reg, decision_tree, random_forest, knn_regressor]  # Add KNN to the list\n",
        "model_names = ['Linear Regression', 'Decision Tree', 'Random Forest', 'KNN Regressor']  # Update model names\n",
        "\n",
        "# Dictionary to store R2 and adjusted R2 values\n",
        "r2_scores = {}\n",
        "\n",
        "# Train and evaluate each model\n",
        "for model, name in zip(models, model_names):\n",
        "    # Train the model\n",
        "    model.fit(X_train, y_train)\n",
        "\n",
        "    # Make predictions on the test set\n",
        "    y_pred = model.predict(X_test)\n",
        "\n",
        "    if isinstance(model, KNeighborsRegressor):  # Handle KNeighborsRegressor differently\n",
        "        # Since KNN is a regression model, directly calculate R2 score\n",
        "        r2 = r2_score(y_test, y_pred)\n",
        "        adjusted_r2 = r2  # Adjusted R2 is not relevant for KNN\n",
        "    else:\n",
        "        # Evaluate other regression models using your existing code\n",
        "        r2 = r2_score(y_test, y_pred)\n",
        "        n = X_test.shape[0]\n",
        "        p = X_test.shape[1]\n",
        "        adjusted_r2 = 1 - ((1 - r2) * (n - 1) / (n - p - 1))\n",
        "\n",
        "    # Store the R2 and adjusted R2 values\n",
        "    r2_scores[name] = {'R2': r2, 'Adjusted_R2': adjusted_r2}\n",
        "\n",
        "r2_scores\n"
      ],
      "metadata": {
        "colab": {
          "base_uri": "https://localhost:8080/"
        },
        "id": "YnT3hFPA3jrE",
        "outputId": "da392cff-a07e-4256-ac8f-2ebffc6cd005"
      },
      "execution_count": 24,
      "outputs": [
        {
          "output_type": "execute_result",
          "data": {
            "text/plain": [
              "{'Linear Regression': {'R2': 0.5884691438726917,\n",
              "  'Adjusted_R2': 0.5884123398620458},\n",
              " 'Decision Tree': {'R2': 0.5246576322977891,\n",
              "  'Adjusted_R2': 0.5245920203211574},\n",
              " 'Random Forest': {'R2': 0.6873701476475647,\n",
              "  'Adjusted_R2': 0.6873269950401797},\n",
              " 'KNN Regressor': {'R2': 0.7062747650233034,\n",
              "  'Adjusted_R2': 0.7062747650233034}}"
            ]
          },
          "metadata": {},
          "execution_count": 24
        }
      ]
    },
    {
      "cell_type": "markdown",
      "source": [
        "# Conclusion"
      ],
      "metadata": {
        "id": "ItSyZukSQoLq"
      }
    },
    {
      "cell_type": "markdown",
      "source": [
        "In this code, we explored the performance of different regression models on a given dataset. We trained and evaluated four different models: Linear Regression, Decision Tree, Random Forest, and K-Nearest Neighbors (KNN) Regressor.\n",
        "\n",
        "The R2 (coefficient of determination) and adjusted R2 scores were used as evaluation metrics to assess the goodness of fit for each model. The R2 score indicates how well the model captures the variance in the target variable, while the adjusted R2 takes into account the number of predictors and provides a more accurate measure of model performance for models with different numbers of features.\n",
        "\n",
        "After training and evaluation, the following conclusions were drawn:\n",
        "\n",
        "**Linear Regression:** The Linear Regression model showed a moderate R2 score, indicating that it explained a reasonable amount of variance in the target variable. The adjusted R2 was calculated to account for the number of features.\n",
        "\n",
        "**Decision Tree:** The Decision Tree model demonstrated variable performance, as it can capture complex relationships within the data. The R2 and adjusted R2 scores highlighted the model's ability to fit the training data closely, but it might lead to overfitting on certain datasets.\n",
        "\n",
        "**Random Forest:** The Random Forest model, an ensemble of decision trees, generally performed well and provided a higher R2 score compared to a single decision tree. The adjusted R2 accounted for the ensemble's complexity.\n",
        "\n",
        "**KNN Regressor:** The KNN Regressor, which predicts target values based on neighboring data points, was included for evaluation. Unlike linear regression and decision trees, KNN's performance was measured solely by the R2 score, as adjusted R2 is not applicable due to its different nature. The KNN Regressor showed its strengths in capturing localized patterns in the data."
      ],
      "metadata": {
        "id": "4KzozyU-QrIg"
      }
    },
    {
      "cell_type": "code",
      "source": [],
      "metadata": {
        "id": "2NVlKVOCCprl"
      },
      "execution_count": null,
      "outputs": []
    }
  ]
}